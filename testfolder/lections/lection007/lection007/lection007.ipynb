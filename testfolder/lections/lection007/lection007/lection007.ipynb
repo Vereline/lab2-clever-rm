{
 "cells": [
  {
   "cell_type": "markdown",
   "metadata": {
    "deletable": true,
    "editable": true
   },
   "source": [
    "# Лекция 7: аттрибуты объектов, дескрипторы,  json и регулярные выражения"
   ]
  },
  {
   "cell_type": "markdown",
   "metadata": {
    "deletable": true,
    "editable": true
   },
   "source": [
    "## Работа с аттрибутами объектов"
   ]
  },
  {
   "cell_type": "markdown",
   "metadata": {
    "deletable": true,
    "editable": true
   },
   "source": [
    "* По-умолчанию каждый объект имеет словарь полученный от своего класса, в котором хранятся поля объекта.\n",
    "* Словарь доступен как ObjectClass.\\_\\_dict\\_\\_.\n",
    "* При чтении (value = obj.name) или записи (obj.name = value) по имени обращение автоматически происходит к объекту в словаре по ключу name.\n",
    "* Поведение при работе с аттрибутами объекта (полями, доступными по имени) можно переопределять."
   ]
  },
  {
   "cell_type": "markdown",
   "metadata": {
    "deletable": true,
    "editable": true
   },
   "source": [
    "### Переопределение доступа к полям по имени"
   ]
  },
  {
   "cell_type": "markdown",
   "metadata": {
    "deletable": true,
    "editable": true
   },
   "source": [
    "* \\_\\_getattr\\_\\_(self, name) - переопределить доступ к аттрибуту (a = x.name) при попытке чтения.\n",
    "  * Вызывается только тогда, когда не удалось найти аттрибут обычными способами (не является полем текущего объекта или какого-либо класса в иерархии предков).\n",
    "  * Должен либо вернуть сформированное значение по указанному имени, либо вызвать AttributeError.\n",
    "  * Важно: используется только, если поле не найдено по имени другим способом."
   ]
  },
  {
   "cell_type": "markdown",
   "metadata": {
    "deletable": true,
    "editable": true
   },
   "source": [
    "* \\_\\_setattr\\_\\_(self, name, value) - при попытке записи данных в аттрибут (x.name = a).\n",
    "  * Вызывается при попытке присваивания, перекрывает обычный механизм присваивания (в отличие от \\_\\_getattr\\_\\_).\n",
    "  * Для присваивания аттрибута текущему объекту над вызвать \\_\\_setattr\\_\\_() у базового класса (self.name = value не сработает).\n",
    "  * Важно: в отличие от предыдущего \\_\\_getattr\\_\\_ перекрывает стандартный механизм."
   ]
  },
  {
   "cell_type": "markdown",
   "metadata": {
    "deletable": true,
    "editable": true
   },
   "source": [
    "* \\_\\_delattr\\_\\_(self, name) - удалить аттрибут по имени.\n",
    "   * Реализовывать стоит только в том случае, если del x.name имеет смысл для текущего объекта."
   ]
  },
  {
   "cell_type": "markdown",
   "metadata": {
    "deletable": true,
    "editable": true
   },
   "source": [
    "* \\_\\_getattribute\\_\\_(self, name) - переопределить доступ к аттрибуту при чтении (для new-style classes).\n",
    "  * Подобен \\_\\_getattr\\_\\_, но в отличие от него перекрывает обычный механизм безусловно.\n",
    "  * В случае, если также определён \\_\\_getattr\\_\\_, то последний вызовется только если его явно вызвать из \\_\\_getattribute\\_\\_ или бросить исключение AttributeError в \\_\\_getattribute\\_\\_.\n",
    "  * Для получения аттрибута у текущего объекта, во избежание рекурсии, надо вызывать \\_\\_getattribute\\_\\_ у базового класса."
   ]
  },
  {
   "cell_type": "markdown",
   "metadata": {
    "deletable": true,
    "editable": true
   },
   "source": [
    "### Определение property полей"
   ]
  },
  {
   "cell_type": "markdown",
   "metadata": {
    "deletable": true,
    "editable": true
   },
   "source": [
    "Декоратор property позволяет определять виртуальные поля, задавая (или нет) отдельные методы в качестве геттера, сеттера, удаляющего, а также определить документацию."
   ]
  },
  {
   "cell_type": "code",
   "execution_count": 1,
   "metadata": {
    "collapsed": false,
    "deletable": true,
    "editable": true
   },
   "outputs": [
    {
     "name": "stdout",
     "output_type": "stream",
     "text": [
      "Got new value\n",
      "Asked for temperature\n",
      "10\n"
     ]
    }
   ],
   "source": [
    "class PseudoMeter(object):\n",
    "    def __init__(self):\n",
    "        self.__temperature = 0\n",
    "\n",
    "    def __get_temperature(self):\n",
    "        print \"Asked for temperature\"\n",
    "        return self.__temperature\n",
    "\n",
    "    def __set_temperature(self, value):\n",
    "        print \"Got new value\"\n",
    "        if not isinstance(value, int):\n",
    "            raise TypeError(\"int value required\")\n",
    "        self.__temperature = value\n",
    "\n",
    "    temperature = property(__get_temperature, __set_temperature)\n",
    "\n",
    "meter = PseudoMeter()\n",
    "meter.temperature = 10\n",
    "print meter.temperature"
   ]
  },
  {
   "cell_type": "markdown",
   "metadata": {
    "deletable": true,
    "editable": true
   },
   "source": [
    "Это был простейший пример. Можно делать аккуратнее и, зависимости от конкретного случая, использовать данный декоратор различными способами."
   ]
  },
  {
   "cell_type": "code",
   "execution_count": 2,
   "metadata": {
    "collapsed": false,
    "deletable": true,
    "editable": true
   },
   "outputs": [
    {
     "name": "stdout",
     "output_type": "stream",
     "text": [
      "Asked for temperature\n",
      "0\n"
     ]
    }
   ],
   "source": [
    "class PseudoMeter(object):\n",
    "    def __init__(self):\n",
    "        self.__temperature = 0\n",
    "\n",
    "    @property\n",
    "    def temperature(self):\n",
    "        print \"Asked for temperature\"\n",
    "        return self.__temperature\n",
    "\n",
    "meter = PseudoMeter()\n",
    "print meter.temperature"
   ]
  },
  {
   "cell_type": "markdown",
   "metadata": {
    "deletable": true,
    "editable": true
   },
   "source": [
    "Или так:"
   ]
  },
  {
   "cell_type": "code",
   "execution_count": 3,
   "metadata": {
    "collapsed": false,
    "deletable": true,
    "editable": true
   },
   "outputs": [
    {
     "name": "stdout",
     "output_type": "stream",
     "text": [
      "Got new value\n",
      "Asked for temperature\n",
      "10\n"
     ]
    }
   ],
   "source": [
    "class PseudoMeter(object):\n",
    "    def __init__(self):\n",
    "        self.__temperature = 0\n",
    "\n",
    "    @property\n",
    "    def temperature(self):\n",
    "        print \"Asked for temperature\"\n",
    "        return self.__temperature\n",
    "\n",
    "    @temperature.setter\n",
    "    def temperature(self, value):\n",
    "        print \"Got new value\"\n",
    "        if not isinstance(value, int):\n",
    "            raise TypeError(\"int value required\")\n",
    "        self.__temperature = value\n",
    "\n",
    "meter = PseudoMeter()\n",
    "meter.temperature = 10\n",
    "print meter.temperature"
   ]
  },
  {
   "cell_type": "markdown",
   "metadata": {
    "deletable": true,
    "editable": true
   },
   "source": [
    "### Дескрипторы"
   ]
  },
  {
   "cell_type": "markdown",
   "metadata": {
    "deletable": true,
    "editable": true
   },
   "source": [
    "* Дескриптор - некоторый объект, который способен переопределять доступ к себе специальными методами будучи аттрибутом другого объекта.\n",
    "* Объект называется дескриптором, если определён хотя бы один из методов \\_\\_get\\_\\_, \\_\\_set\\_\\_, \\_\\_delete\\_\\_.\n",
    "* При обращении к аттрибуту, в котором записан объект-дескриптор соответствующие методы этого объекта могут быть вызваны вместо методов класса-хозяина (в зависимости от того, как определён дескриптор)\n",
    "* Дескрипторы работают только для new-style classes (унаследованы от object (для классов) и type (метаклассов))."
   ]
  },
  {
   "cell_type": "markdown",
   "metadata": {
    "deletable": true,
    "editable": true
   },
   "source": [
    "#### Дескрипторы данных и не-данных"
   ]
  },
  {
   "cell_type": "markdown",
   "metadata": {
    "deletable": true,
    "editable": true
   },
   "source": [
    "* Дескриптор данных (data descriptor) - если определены \\_\\_get\\_\\_ и \\_\\_set\\_\\_.\n",
    "* Дескриптор не-данных (non-data descriptor) - если определен \\_\\_get\\_\\_, но не \\_\\_set\\_\\_.\n",
    "* Дескриптор данных имеет приоритет перед поиском в словаре текущего объекта, в котором он находится.\n",
    "* Дескриптор не-данных запрашивается только после того, как по имени в текущем объекте не было найдено аттрибутов.\n",
    "* Read-only дескриптор данных - реализовать \\_\\_set\\_\\_, но выбрасывать из него AttributeError."
   ]
  },
  {
   "cell_type": "markdown",
   "metadata": {
    "deletable": true,
    "editable": true
   },
   "source": [
    "#### Протокол дескрипторов"
   ]
  },
  {
   "cell_type": "markdown",
   "metadata": {
    "deletable": true,
    "editable": true
   },
   "source": [
    "* descr.\\_\\_get\\_\\_(self, instance, owner) --> value\n",
    "  * Вызывается при обращении для чтения к аттрибуту класса-владельца (class attribute) или объекта-владельца (instance attribute).\n",
    "  * instance - объект-владелец, для которого вызвано получение аттрибута (None, если вызвано для класса).\n",
    "  * owner - класс-владелец.\n",
    "  * Должен либо возвращать значение, либо бросать AttributeError."
   ]
  },
  {
   "cell_type": "markdown",
   "metadata": {
    "deletable": true,
    "editable": true
   },
   "source": [
    "* descr.\\_\\_set\\_\\_(self, instance, value) --> None\n",
    "  * Вызывается для присваивания аттрибуту объекта-владельца instance значения value."
   ]
  },
  {
   "cell_type": "markdown",
   "metadata": {
    "deletable": true,
    "editable": true
   },
   "source": [
    "* descr.\\_\\_delete\\_\\_(self, instance) --> None\n",
    "  * Вызывается для удаления аттрибута из объекта-владельца instance."
   ]
  },
  {
   "cell_type": "markdown",
   "metadata": {
    "deletable": true,
    "editable": true
   },
   "source": [
    "#### Варианты вызова дескрипторов"
   ]
  },
  {
   "cell_type": "markdown",
   "metadata": {
    "deletable": true,
    "editable": true
   },
   "source": [
    "* Напрямую - descr.\\_\\_get\\_\\_(instance, type(instance))\n",
    "  * Обычно не используется.\n",
    "* От объекта - obj.descr:\n",
    "  * type(instance).\\_\\_dict\\_\\_['descr'].\\_\\_get\\_\\_(instance, type(instance))\n",
    "* От класса - obj.descr\n",
    "  * owner.\\_\\_dict\\_\\_['descr'].\\_\\_get\\_\\_(None, owner)\n",
    "* От super - super(owner, instance).descr\n",
    "  * Ищет в instance.\\_\\_class\\_\\_.\\_\\_mro\\_\\_ ближайший базовый класс-предок ownerBase и вызывает дескриптор.\n",
    "  * Вызвает так: ownerBase.\\_\\_dict\\_\\_['descr'].\\_\\_get\\_\\_(instance, instance.\\_\\_class\\_\\_)\n",
    "  "
   ]
  },
  {
   "cell_type": "markdown",
   "metadata": {
    "deletable": true,
    "editable": true
   },
   "source": [
    "#### Замечания про дескрипторы и переопределение доступа к полям"
   ]
  },
  {
   "cell_type": "markdown",
   "metadata": {
    "deletable": true,
    "editable": true
   },
   "source": [
    "* Преобразования из предыдущего списка автоматически делает \\_\\_getattribute\\_\\_.\n",
    "* Если его переопределить, то больше не будет работать автоматическое использование дескрипторов.\n",
    "* В зависимост от варианта вызова используется object.\\_\\_getattribute\\_\\_ (для объекта) или type.\\_\\_getattribute\\_\\_ (для класса)."
   ]
  },
  {
   "cell_type": "markdown",
   "metadata": {
    "deletable": true,
    "editable": true
   },
   "source": [
    "#### Примеры дескрипторов в языке Python"
   ]
  },
  {
   "cell_type": "markdown",
   "metadata": {
    "deletable": true,
    "editable": true
   },
   "source": [
    "Функции staticmethod, classmethod и property (также используемые как декораторы) реализованы с помощью протокола дескрипторов."
   ]
  },
  {
   "cell_type": "markdown",
   "metadata": {
    "deletable": true,
    "editable": true
   },
   "source": [
    "Пример property на чистом Python (в стандартном интерпретаторе реализована нативно):"
   ]
  },
  {
   "cell_type": "code",
   "execution_count": 4,
   "metadata": {
    "collapsed": true,
    "deletable": true,
    "editable": true
   },
   "outputs": [],
   "source": [
    "class Property(object):\n",
    "    \"Emulate PyProperty_Type() in Objects/descrobject.c\"\n",
    "\n",
    "    def __init__(self, fget=None, fset=None, fdel=None, doc=None):\n",
    "        self.fget = fget\n",
    "        self.fset = fset\n",
    "        self.fdel = fdel\n",
    "        if doc is None and fget is not None:\n",
    "            doc = fget.__doc__\n",
    "        self.__doc__ = doc\n",
    "\n",
    "    def __get__(self, obj, objtype=None):\n",
    "        if obj is None:\n",
    "            return self\n",
    "        if self.fget is None:\n",
    "            raise AttributeError(\"unreadable attribute\")\n",
    "        return self.fget(obj)\n",
    "\n",
    "    def __set__(self, obj, value):\n",
    "        if self.fset is None:\n",
    "            raise AttributeError(\"can't set attribute\")\n",
    "        self.fset(obj, value)\n",
    "\n",
    "    def __delete__(self, obj):\n",
    "        if self.fdel is None:\n",
    "            raise AttributeError(\"can't delete attribute\")\n",
    "        self.fdel(obj)\n",
    "\n",
    "    def getter(self, fget):\n",
    "        return type(self)(fget, self.fset, self.fdel, self.__doc__)\n",
    "\n",
    "    def setter(self, fset):\n",
    "        return type(self)(self.fget, fset, self.fdel, self.__doc__)\n",
    "\n",
    "    def deleter(self, fdel):\n",
    "        return type(self)(self.fget, self.fset, fdel, self.__doc__)"
   ]
  },
  {
   "cell_type": "markdown",
   "metadata": {
    "deletable": true,
    "editable": true
   },
   "source": [
    "#### Функции и методы"
   ]
  },
  {
   "cell_type": "markdown",
   "metadata": {
    "deletable": true,
    "editable": true
   },
   "source": [
    "* ООП в Python основывается на использовании функций.\n",
    "* Для объединения этих двух частей воедино используются дескрипторы не-данных."
   ]
  },
  {
   "cell_type": "markdown",
   "metadata": {
    "deletable": true,
    "editable": true
   },
   "source": [
    "Как это работает:"
   ]
  },
  {
   "cell_type": "markdown",
   "metadata": {
    "deletable": true,
    "editable": true
   },
   "source": [
    "* В словарях полей классов методы хранятся просто как функции, реализованные через def и lambda.\n",
    "* Единственное отличие - соглашение о том, что первый аргумент соответствует вызывающему объекту self.\n",
    "* Все объекты-функции имеют \\_\\_get\\_\\_, что делает их дескрипторами не-данных.\n",
    "* При доступе к объекту-функции в зависимости от того, как он произведён (объект-владелец или через класс-владелец) возвращает связанные или несвязанные методы соответственно."
   ]
  },
  {
   "cell_type": "code",
   "execution_count": 5,
   "metadata": {
    "collapsed": false,
    "deletable": true,
    "editable": true
   },
   "outputs": [
    {
     "name": "stdout",
     "output_type": "stream",
     "text": [
      "<function func at 0x7f97497e9b18>\n",
      "<unbound method Owner.func>\n",
      "<bound method Owner.func of <__main__.Owner object at 0x7f97497e2950>>\n"
     ]
    }
   ],
   "source": [
    "class Owner(object):\n",
    "    def func(self, value):\n",
    "        return value\n",
    "\n",
    "instance = Owner()\n",
    "print Owner.__dict__['func']\n",
    "print Owner.func\n",
    "print instance.func"
   ]
  },
  {
   "cell_type": "markdown",
   "metadata": {
    "deletable": true,
    "editable": true
   },
   "source": [
    "Посмотрим ещё примеры реализации версий staticmethod и classmethod на чистом Python:"
   ]
  },
  {
   "cell_type": "code",
   "execution_count": 6,
   "metadata": {
    "collapsed": true,
    "deletable": true,
    "editable": true
   },
   "outputs": [],
   "source": [
    "class StaticMethod(object):\n",
    "    \"Emulate PyStaticMethod_Type() in Objects/funcobject.c\"\n",
    "    def __init__(self, f):\n",
    "        self.f = f\n",
    "\n",
    "    def __get__(self, obj, objtype=None):\n",
    "        return self.f"
   ]
  },
  {
   "cell_type": "code",
   "execution_count": 7,
   "metadata": {
    "collapsed": true,
    "deletable": true,
    "editable": true
   },
   "outputs": [],
   "source": [
    "class ClassMethod(object):\n",
    "    \"Emulate PyClassMethod_Type() in Objects/funcobject.c\"\n",
    "    def __init__(self, f):\n",
    "        self.f = f\n",
    "\n",
    "    def __get__(self, obj, klass=None):\n",
    "        if klass is None:\n",
    "            klass = type(obj)\n",
    "\n",
    "        def newfunc(*args):\n",
    "            return self.f(klass, *args)\n",
    "\n",
    "        return newfunc"
   ]
  },
  {
   "cell_type": "markdown",
   "metadata": {
    "deletable": true,
    "editable": true
   },
   "source": [
    "## JSON"
   ]
  },
  {
   "cell_type": "markdown",
   "metadata": {
    "deletable": true,
    "editable": true
   },
   "source": [
    "* JSON -  JavaScript Object Notation - формат передачи данных.\n",
    "* Не зависит от языка - поддержка есть практически для всех языках программирования.\n",
    "* Имеет человекочитаемый вид.\n",
    "* Позволяет просто и понятно описывать структурированные данные.\n",
    "* Значения: объект, массив, строка, число, true, false, null."
   ]
  },
  {
   "cell_type": "code",
   "execution_count": 8,
   "metadata": {
    "collapsed": true,
    "deletable": true,
    "editable": true
   },
   "outputs": [],
   "source": [
    "response_message = \"\"\"\n",
    "{\n",
    "  \"data\": [\n",
    "    {\n",
    "      \"type\": \"articles\",\n",
    "      \"id\": \"1\",\n",
    "      \"attributes\": {\n",
    "        \"title\": \"JSON API paints my bikeshed!\",\n",
    "        \"body\": \"The shortest article. Ever.\",\n",
    "        \"created\": \"2015-05-22T14:56:29.000Z\",\n",
    "        \"updated\": \"2015-05-22T14:56:28.000Z\"\n",
    "      },\n",
    "      \"relationships\": {\n",
    "        \"author\": {\n",
    "          \"data\": {\n",
    "            \"id\": \"42\",\n",
    "            \"type\": \"people\"\n",
    "          }\n",
    "        }\n",
    "      }\n",
    "    }\n",
    "  ],\n",
    "  \"included\": [\n",
    "    {\n",
    "      \"type\": \"people\",\n",
    "      \"id\": \"42\",\n",
    "      \"attributes\": {\n",
    "        \"name\": \"John\",\n",
    "        \"age\": 80,\n",
    "        \"gender\": \"male\"\n",
    "      }\n",
    "    }\n",
    "  ]\n",
    "}\n",
    "\"\"\""
   ]
  },
  {
   "cell_type": "markdown",
   "metadata": {
    "deletable": true,
    "editable": true
   },
   "source": [
    "В языке Python есть модуль стандартной библиотеки для работы с JSON:"
   ]
  },
  {
   "cell_type": "code",
   "execution_count": 9,
   "metadata": {
    "collapsed": false,
    "deletable": true,
    "editable": true
   },
   "outputs": [
    {
     "data": {
      "text/plain": [
       "['JSONDecoder',\n",
       " 'JSONEncoder',\n",
       " '__all__',\n",
       " '__author__',\n",
       " '__builtins__',\n",
       " '__doc__',\n",
       " '__file__',\n",
       " '__name__',\n",
       " '__package__',\n",
       " '__path__',\n",
       " '__version__',\n",
       " '_default_decoder',\n",
       " '_default_encoder',\n",
       " 'decoder',\n",
       " 'dump',\n",
       " 'dumps',\n",
       " 'encoder',\n",
       " 'load',\n",
       " 'loads',\n",
       " 'scanner']"
      ]
     },
     "execution_count": 9,
     "metadata": {},
     "output_type": "execute_result"
    }
   ],
   "source": [
    "import json\n",
    "dir(json)"
   ]
  },
  {
   "cell_type": "markdown",
   "metadata": {
    "deletable": true,
    "editable": true
   },
   "source": [
    "C помощью этого модуля можно превратить json в объекты стандартные объекты языка Python."
   ]
  },
  {
   "cell_type": "code",
   "execution_count": 10,
   "metadata": {
    "collapsed": false,
    "deletable": true,
    "editable": true
   },
   "outputs": [
    {
     "name": "stdout",
     "output_type": "stream",
     "text": [
      "{u'data': [{u'attributes': {u'body': u'The shortest article. Ever.',\n",
      "                            u'created': u'2015-05-22T14:56:29.000Z',\n",
      "                            u'title': u'JSON API paints my bikeshed!',\n",
      "                            u'updated': u'2015-05-22T14:56:28.000Z'},\n",
      "            u'id': u'1',\n",
      "            u'relationships': {u'author': {u'data': {u'id': u'42',\n",
      "                                                     u'type': u'people'}}},\n",
      "            u'type': u'articles'}],\n",
      " u'included': [{u'attributes': {u'age': 80,\n",
      "                                u'gender': u'male',\n",
      "                                u'name': u'John'},\n",
      "                u'id': u'42',\n",
      "                u'type': u'people'}]}\n"
     ]
    }
   ],
   "source": [
    "# convert from json text to python data\n",
    "data = json.loads(response_message)\n",
    "\n",
    "from pprint import pprint\n",
    "pprint(data)"
   ]
  },
  {
   "cell_type": "code",
   "execution_count": 11,
   "metadata": {
    "collapsed": false,
    "deletable": true,
    "editable": true
   },
   "outputs": [
    {
     "name": "stdout",
     "output_type": "stream",
     "text": [
      "[u'included', u'data'] <type 'dict'>\n",
      "{u'body': u'The shortest article. Ever.', u'updated': u'2015-05-22T14:56:28.000Z', u'created': u'2015-05-22T14:56:29.000Z', u'title': u'JSON API paints my bikeshed!'}\n"
     ]
    }
   ],
   "source": [
    "print data.keys(), type(data)\n",
    "print data[\"data\"][0][\"attributes\"]"
   ]
  },
  {
   "cell_type": "markdown",
   "metadata": {
    "deletable": true,
    "editable": true
   },
   "source": [
    "Или наоборот:"
   ]
  },
  {
   "cell_type": "code",
   "execution_count": 12,
   "metadata": {
    "collapsed": true,
    "deletable": true,
    "editable": true
   },
   "outputs": [],
   "source": [
    "target_description = {\n",
    "    \"id\": 100500,\n",
    "    \"name\": \"ahaha\",\n",
    "    \"marks\": [5, 7, 5, 8],\n",
    "    \"is_valid\": True\n",
    "}"
   ]
  },
  {
   "cell_type": "code",
   "execution_count": 13,
   "metadata": {
    "collapsed": false,
    "deletable": true,
    "editable": true
   },
   "outputs": [
    {
     "name": "stdout",
     "output_type": "stream",
     "text": [
      "{\"is_valid\": true, \"marks\": [5, 7, 5, 8], \"id\": 100500, \"name\": \"ahaha\"}\n"
     ]
    }
   ],
   "source": [
    "print json.dumps(target_description)"
   ]
  },
  {
   "cell_type": "code",
   "execution_count": 14,
   "metadata": {
    "collapsed": false,
    "deletable": true,
    "editable": true
   },
   "outputs": [
    {
     "name": "stdout",
     "output_type": "stream",
     "text": [
      "{\n",
      "    \"is_valid\": true, \n",
      "    \"marks\": [\n",
      "        5, \n",
      "        7, \n",
      "        5, \n",
      "        8\n",
      "    ], \n",
      "    \"id\": 100500, \n",
      "    \"name\": \"ahaha\"\n",
      "}\n"
     ]
    }
   ],
   "source": [
    "print json.dumps(target_description, indent=4)"
   ]
  },
  {
   "cell_type": "markdown",
   "metadata": {
    "deletable": true,
    "editable": true
   },
   "source": [
    "Кроме этого:"
   ]
  },
  {
   "cell_type": "markdown",
   "metadata": {
    "deletable": true,
    "editable": true
   },
   "source": [
    "* Аналогично есть функции load/dump, которые вместро строк работают с file-like объектами.\n",
    "* Можно унаследоваться от JSONEncoder/JSONDecoder и определить свои правила кодирования-декодирования json с помощью функций loads/load/dump/dumps."
   ]
  },
  {
   "cell_type": "markdown",
   "metadata": {
    "deletable": true,
    "editable": true
   },
   "source": [
    "Подробнее про json:"
   ]
  },
  {
   "cell_type": "markdown",
   "metadata": {
    "deletable": true,
    "editable": true
   },
   "source": [
    "* http://www.json.org/  \n",
    "* https://en.wikipedia.org/wiki/JSON  \n",
    "* https://docs.python.org/2/library/json.html  "
   ]
  },
  {
   "cell_type": "markdown",
   "metadata": {
    "deletable": true,
    "editable": true
   },
   "source": [
    "### Регулярные выражения"
   ]
  },
  {
   "cell_type": "markdown",
   "metadata": {
    "deletable": true,
    "editable": true
   },
   "source": [
    "* Регулярное выражение - формальный язык поиска и манипуляций над текстом, представлен грамматикой со специальными метасимволами, задающими определённые правила преобразования над последовательностями символов.\n",
    "* Шаблон (pattern) - совокупность символов и метасимволов задающее правила поиска и преобразований в его процессе.\n",
    "* В стандартной библиотеке Python есть библиотека для удобной работы с регулярными выражениями.\n",
    "* Библиотека называется re."
   ]
  },
  {
   "cell_type": "markdown",
   "metadata": {
    "deletable": true,
    "editable": true
   },
   "source": [
    "Рассмотрим простые примеры использования библиотеки для работы с регулярными выражениями:"
   ]
  },
  {
   "cell_type": "code",
   "execution_count": 15,
   "metadata": {
    "collapsed": false,
    "deletable": true,
    "editable": true,
    "scrolled": true
   },
   "outputs": [
    {
     "name": "stdout",
     "output_type": "stream",
     "text": [
      "['DEBUG', 'DOTALL', 'I', 'IGNORECASE', 'L', 'LOCALE', 'M', 'MULTILINE', 'S', 'Scanner', 'T', 'TEMPLATE', 'U', 'UNICODE', 'VERBOSE', 'X', '_MAXCACHE', '__all__', '__builtins__', '__doc__', '__file__', '__name__', '__package__', '__version__', '_alphanum', '_cache', '_cache_repl', '_compile', '_compile_repl', '_expand', '_locale', '_pattern_type', '_pickle', '_subx', 'compile', 'copy_reg', 'error', 'escape', 'findall', 'finditer', 'match', 'purge', 'search', 'split', 'sre_compile', 'sre_parse', 'sub', 'subn', 'sys', 'template']\n"
     ]
    }
   ],
   "source": [
    "import re\n",
    "print dir(re)"
   ]
  },
  {
   "cell_type": "code",
   "execution_count": 16,
   "metadata": {
    "collapsed": false,
    "deletable": true,
    "editable": true
   },
   "outputs": [
    {
     "name": "stdout",
     "output_type": "stream",
     "text": [
      "0\n"
     ]
    }
   ],
   "source": [
    "import re\n",
    "\n",
    "pattern = \"abc\"\n",
    "match = re.match(pattern, \"abc\")\n",
    "print match.pos"
   ]
  },
  {
   "cell_type": "code",
   "execution_count": 17,
   "metadata": {
    "collapsed": false,
    "deletable": true,
    "editable": true
   },
   "outputs": [
    {
     "name": "stdout",
     "output_type": "stream",
     "text": [
      "<_sre.SRE_Match object at 0x7f9748f8e100>\n"
     ]
    }
   ],
   "source": [
    "print re.match(\"abc\", \"abcd\")"
   ]
  },
  {
   "cell_type": "code",
   "execution_count": 18,
   "metadata": {
    "collapsed": false,
    "deletable": true,
    "editable": true
   },
   "outputs": [
    {
     "name": "stdout",
     "output_type": "stream",
     "text": [
      "<_sre.SRE_Match object at 0x7f9748f8e1d0>\n",
      "None\n"
     ]
    }
   ],
   "source": [
    "print re.match(\"^abc$\", \"abc\")\n",
    "print re.match(\"^abc$\", \"abcd\")"
   ]
  },
  {
   "cell_type": "code",
   "execution_count": 19,
   "metadata": {
    "collapsed": false,
    "deletable": true,
    "editable": true
   },
   "outputs": [
    {
     "name": "stdout",
     "output_type": "stream",
     "text": [
      "None\n",
      "<_sre.SRE_Match object at 0x7f9748f8e238>\n"
     ]
    }
   ],
   "source": [
    "print re.match(\"abc\", \"dabc\")\n",
    "print re.search(\"abc\", \"dabc\")"
   ]
  },
  {
   "cell_type": "code",
   "execution_count": 20,
   "metadata": {
    "collapsed": false,
    "deletable": true,
    "editable": true
   },
   "outputs": [
    {
     "name": "stdout",
     "output_type": "stream",
     "text": [
      "Help on function match in module re:\n",
      "\n",
      "match(pattern, string, flags=0)\n",
      "    Try to apply the pattern at the start of the string, returning\n",
      "    a match object, or None if no match was found.\n",
      "\n"
     ]
    }
   ],
   "source": [
    "help(re.match)"
   ]
  },
  {
   "cell_type": "code",
   "execution_count": 21,
   "metadata": {
    "collapsed": false,
    "deletable": true,
    "editable": true
   },
   "outputs": [
    {
     "name": "stdout",
     "output_type": "stream",
     "text": [
      "Help on function search in module re:\n",
      "\n",
      "search(pattern, string, flags=0)\n",
      "    Scan through string looking for a match to the pattern, returning\n",
      "    a match object, or None if no match was found.\n",
      "\n"
     ]
    }
   ],
   "source": [
    "help(re.search)"
   ]
  },
  {
   "cell_type": "code",
   "execution_count": 22,
   "metadata": {
    "collapsed": false,
    "deletable": true,
    "editable": true
   },
   "outputs": [
    {
     "name": "stdout",
     "output_type": "stream",
     "text": [
      "<_sre.SRE_Match object at 0x7f9748f8e370>\n"
     ]
    }
   ],
   "source": [
    "print re.match(\"a[0-9]b\", \"a1b\")"
   ]
  },
  {
   "cell_type": "code",
   "execution_count": 23,
   "metadata": {
    "collapsed": false,
    "deletable": true,
    "editable": true
   },
   "outputs": [
    {
     "name": "stdout",
     "output_type": "stream",
     "text": [
      "<_sre.SRE_Match object at 0x7f9748f8e2a0>\n"
     ]
    }
   ],
   "source": [
    "print re.match(\"a[0-9]*b\", \"a1124234234b\")"
   ]
  },
  {
   "cell_type": "code",
   "execution_count": 24,
   "metadata": {
    "collapsed": false,
    "deletable": true,
    "editable": true
   },
   "outputs": [
    {
     "name": "stdout",
     "output_type": "stream",
     "text": [
      "<_sre.SRE_Match object at 0x7f9748f8e308>\n",
      "None\n"
     ]
    }
   ],
   "source": [
    "print re.match(\"a[0-9]*b\", \"ab\")\n",
    "print re.match(\"a[0-9]+b\", \"ab\")"
   ]
  },
  {
   "cell_type": "code",
   "execution_count": 25,
   "metadata": {
    "collapsed": false,
    "deletable": true,
    "editable": true
   },
   "outputs": [
    {
     "name": "stdout",
     "output_type": "stream",
     "text": [
      "user@domain.com\n",
      "user\n"
     ]
    }
   ],
   "source": [
    "match = re.match(\"(.+)@(.+\\.com)\", \"user@domain.com\")\n",
    "print match.group()\n",
    "print match.group(1)"
   ]
  },
  {
   "cell_type": "markdown",
   "metadata": {
    "deletable": true,
    "editable": true
   },
   "source": [
    "Подробнее про регулярные выражения:"
   ]
  },
  {
   "cell_type": "markdown",
   "metadata": {
    "deletable": true,
    "editable": true
   },
   "source": [
    "* https://ru.wikipedia.org/wiki/Регулярные_выражения  \n",
    "* https://ru.wikibooks.org/wiki/Регулярные_выражения  \n",
    "* https://docs.python.org/2/library/re.html  \n",
    "* https://developer.mozilla.org/en-US/docs/Web/JavaScript/Guide/Regular_Expressions  \n",
    "* http://www.regexr.com/  \n",
    "* http://habrahabr.ru/post/115825/\n",
    "* Книга \"Mastering Regular Expressions\", by Jeffrey Friedl  \n",
    "* https://swtch.com/~rsc/regexp/regexp1.html  \n",
    "* https://swtch.com/~rsc/regexp/regexp2.html  \n",
    "* https://swtch.com/~rsc/regexp/regexp3.html  "
   ]
  },
  {
   "cell_type": "markdown",
   "metadata": {
    "deletable": true,
    "editable": true
   },
   "source": [
    "Важно понимать, когда стоит употреблять:"
   ]
  },
  {
   "cell_type": "code",
   "execution_count": 26,
   "metadata": {
    "collapsed": false,
    "deletable": true,
    "editable": true
   },
   "outputs": [
    {
     "data": {
      "text/plain": [
       "'Some people, when confronted with a problem, think \"I know, I\\'ll use regular expressions.\" Now they have two problems.'"
      ]
     },
     "execution_count": 26,
     "metadata": {},
     "output_type": "execute_result"
    }
   ],
   "source": [
    "\"\"\"Some people, when confronted with a problem, think \"I know, I'll use regular expressions.\" Now they have two problems.\"\"\""
   ]
  },
  {
   "cell_type": "markdown",
   "metadata": {
    "deletable": true,
    "editable": true
   },
   "source": [
    "* https://blog.codinghorror.com/regular-expressions-now-you-have-two-problems/  \n",
    "* https://programmers.stackexchange.com/questions/113237/when-you-should-not-use-regular-expressions  \n",
    "* https://blog.codinghorror.com/regex-use-vs-regex-abuse/  "
   ]
  },
  {
   "cell_type": "markdown",
   "metadata": {
    "deletable": true,
    "editable": true
   },
   "source": [
    "Полезно на будущее для самостоятельного чтения:\n",
    "* Для понимания языков программирования, низкоуровневых идей в основе парсеров и того, как работают регулярные выражения: книга \"Введение в теорию автоматов, языков и вычислений.\". Авторы: Джон Хопкрофт, Раджив Мотвани, Джеффри Ульман.\n"
   ]
  }
 ],
 "metadata": {
  "kernelspec": {
   "display_name": "Python 2",
   "language": "python",
   "name": "python2"
  },
  "language_info": {
   "codemirror_mode": {
    "name": "ipython",
    "version": 2
   },
   "file_extension": ".py",
   "mimetype": "text/x-python",
   "name": "python",
   "nbconvert_exporter": "python",
   "pygments_lexer": "ipython2",
   "version": "2.7.12"
  }
 },
 "nbformat": 4,
 "nbformat_minor": 0
}
