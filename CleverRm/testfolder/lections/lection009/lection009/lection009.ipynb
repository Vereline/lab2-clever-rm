{
 "cells": [
  {
   "cell_type": "markdown",
   "metadata": {
    "deletable": true,
    "editable": true
   },
   "source": [
    "# Лекция 9: кодировки и Python"
   ]
  },
  {
   "cell_type": "code",
   "execution_count": 1,
   "metadata": {
    "collapsed": false,
    "deletable": true,
    "editable": true
   },
   "outputs": [
    {
     "ename": "UnicodeDecodeError",
     "evalue": "'ascii' codec can't decode byte 0xd0 in position 7: ordinal not in range(128)",
     "output_type": "error",
     "traceback": [
      "\u001b[0;31m---------------------------------------------------------------------------\u001b[0m",
      "\u001b[0;31mUnicodeDecodeError\u001b[0m                        Traceback (most recent call last)",
      "\u001b[0;32m<ipython-input-1-372dc38c9b15>\u001b[0m in \u001b[0;36m<module>\u001b[0;34m()\u001b[0m\n\u001b[1;32m      4\u001b[0m \u001b[0;34m\u001b[0m\u001b[0m\n\u001b[1;32m      5\u001b[0m \u001b[0mline\u001b[0m \u001b[0;34m=\u001b[0m \u001b[0;34m\"Hello, привет!\\n\"\u001b[0m\u001b[0;34m\u001b[0m\u001b[0m\n\u001b[0;32m----> 6\u001b[0;31m \u001b[0;32mprint\u001b[0m \u001b[0mprocess_line\u001b[0m\u001b[0;34m(\u001b[0m\u001b[0mline\u001b[0m\u001b[0;34m)\u001b[0m\u001b[0;34m\u001b[0m\u001b[0m\n\u001b[0m",
      "\u001b[0;32m<ipython-input-1-372dc38c9b15>\u001b[0m in \u001b[0;36mprocess_line\u001b[0;34m(line)\u001b[0m\n\u001b[1;32m      1\u001b[0m \u001b[0;32mdef\u001b[0m \u001b[0mprocess_line\u001b[0m\u001b[0;34m(\u001b[0m\u001b[0mline\u001b[0m\u001b[0;34m)\u001b[0m\u001b[0;34m:\u001b[0m\u001b[0;34m\u001b[0m\u001b[0m\n\u001b[0;32m----> 2\u001b[0;31m     \u001b[0mline\u001b[0m \u001b[0;34m=\u001b[0m \u001b[0municode\u001b[0m\u001b[0;34m(\u001b[0m\u001b[0mline\u001b[0m\u001b[0;34m)\u001b[0m\u001b[0;34m\u001b[0m\u001b[0m\n\u001b[0m\u001b[1;32m      3\u001b[0m     \u001b[0;32mreturn\u001b[0m \u001b[0mline\u001b[0m\u001b[0;34m.\u001b[0m\u001b[0msplit\u001b[0m\u001b[0;34m(\u001b[0m\u001b[0;34m' '\u001b[0m\u001b[0;34m)\u001b[0m\u001b[0;34m[\u001b[0m\u001b[0;36m1\u001b[0m\u001b[0;34m]\u001b[0m\u001b[0;34m\u001b[0m\u001b[0m\n\u001b[1;32m      4\u001b[0m \u001b[0;34m\u001b[0m\u001b[0m\n\u001b[1;32m      5\u001b[0m \u001b[0mline\u001b[0m \u001b[0;34m=\u001b[0m \u001b[0;34m\"Hello, привет!\\n\"\u001b[0m\u001b[0;34m\u001b[0m\u001b[0m\n",
      "\u001b[0;31mUnicodeDecodeError\u001b[0m: 'ascii' codec can't decode byte 0xd0 in position 7: ordinal not in range(128)"
     ]
    }
   ],
   "source": [
    "def process_line(line):\n",
    "    line = unicode(line)\n",
    "    return line.split(' ')[1]\n",
    "\n",
    "line = \"Hello, привет!\\n\"\n",
    "print process_line(line)"
   ]
  },
  {
   "cell_type": "markdown",
   "metadata": {
    "deletable": true,
    "editable": true
   },
   "source": [
    "## Кодировки и стандарт Unicode"
   ]
  },
  {
   "cell_type": "markdown",
   "metadata": {
    "deletable": true,
    "editable": true
   },
   "source": [
    "### Что такое кодировки и как появились"
   ]
  },
  {
   "cell_type": "markdown",
   "metadata": {
    "deletable": true,
    "editable": true
   },
   "source": [
    "#### Что такое кодировка?"
   ]
  },
  {
   "cell_type": "markdown",
   "metadata": {
    "deletable": true,
    "editable": true
   },
   "source": [
    "* В компьютере данные представлены в виде набора бит объединённых в байты.\n",
    "* Биты и байты можно можно использовать для записи текста.\n",
    "* Формат представления текста в бинарном виде называется кодировкой."
   ]
  },
  {
   "cell_type": "markdown",
   "metadata": {
    "deletable": true,
    "editable": true
   },
   "source": [
    "#### ASCII"
   ]
  },
  {
   "cell_type": "markdown",
   "metadata": {
    "deletable": true,
    "editable": true
   },
   "source": [
    "* American Standard Code for Information\n",
    "* 1968 год\n",
    "* Определяла коды для символов, от 0 до 127.\n",
    "* В основном состояла из строчных и прописных символов английского алфавита, цифр, пунктуации, математических символов и специальных управляющих кодов.\n",
    "* 'a' = 97\n",
    "* \"a..z\" (и \"A..Z\") идут подряд (не во всех кодировках так)"
   ]
  },
  {
   "cell_type": "markdown",
   "metadata": {
    "deletable": true,
    "editable": true
   },
   "source": [
    "#### Локальные альтернативы ascii\n",
    "* Американский стандарт, не было нужных символов с диакритикой (французский) или просто символов алфавита (русский). Какое-то время с этим мирились.\n",
    "* Некоторые компании создавали свои альтернативы, но они не были общеприняты.\n",
    "* В 1980 большинство персональных компьютеров имели 8-битные байты, поэтому можно было хранить значения 0..255.\n",
    "* Альтернативные кодировки дополняли ascii дописывая используя вторую половину байта.\n",
    "* Примеры: для русского (koi8-r, cp1251), французского (latin1) и т.д. "
   ]
  },
  {
   "cell_type": "markdown",
   "metadata": {
    "deletable": true,
    "editable": true
   },
   "source": [
    "#### Проблемы с однобайтовыми кодировками"
   ]
  },
  {
   "cell_type": "markdown",
   "metadata": {
    "deletable": true,
    "editable": true
   },
   "source": [
    "* Сложно использовать несколько языков одновременно.\n",
    "* Нетривиальность определения кодировок при совместном использовании (поэтому обычно использовали одну).\n",
    "* Неправильное отображение при неправильном определении.\n",
    "* Неуниверсальность записи различных данных."
   ]
  },
  {
   "cell_type": "markdown",
   "metadata": {
    "deletable": true,
    "editable": true
   },
   "source": [
    "### Стандарт Unicode"
   ]
  },
  {
   "cell_type": "markdown",
   "metadata": {
    "deletable": true,
    "editable": true
   },
   "source": [
    "#####  Начало стандартизации"
   ]
  },
  {
   "cell_type": "markdown",
   "metadata": {
    "deletable": true,
    "editable": true
   },
   "source": [
    "* В 1980-х люди хотели решить проблемы связанные с использованием однобайтных кодировок.\n",
    "* Началось движение в сторону стандартизации общего Unicode формата представления и записи символов.\n",
    "* Сначала хотели 16-битные символы, но оказалось мало.\n",
    "* Решили формально не ограничивать пространство кодов (но по факту сейчас все символы помещаются в 4 байта и расширять пока не планируется)."
   ]
  },
  {
   "cell_type": "markdown",
   "metadata": {
    "deletable": true,
    "editable": true
   },
   "source": [
    "##### Две основные части стандарта"
   ]
  },
  {
   "cell_type": "markdown",
   "metadata": {
    "deletable": true,
    "editable": true
   },
   "source": [
    "* UCS (universal character set) - универсальный набор символов Unicode, задано соответствие между символом и кодом.\n",
    "* UTF (unicode transformation format) - семейство кодировок определяет машинное представление последовательности кодов UCS."
   ]
  },
  {
   "cell_type": "markdown",
   "metadata": {
    "deletable": true,
    "editable": true
   },
   "source": [
    "##### Определения\n",
    "* Символ (character) - наименьшая единица текста ('A', 'È', 'Ω' и ...).\n",
    "* Точка кода (code point) - целое число из таблицы отображения символов на коды, представляет отдельный символ.\n",
    "* Глиф (glyph) - графические элементы записи конкретного символа (обычно обрабатываются прозрачно для нас, заботу на себя берёт ОС, браузер, GUI).\n",
    "* Юникод (Unicode) - стандарт кодирования символов, по сути представляет собой таблицу с описаниями символов, правила и рекомендации их представления и использования. \n",
    "* Кодировка - правила перевода символов Unicode в последовательность байт (UTF часть стандарта)."
   ]
  },
  {
   "cell_type": "markdown",
   "metadata": {
    "deletable": true,
    "editable": true
   },
   "source": [
    "##### Детальнее про внутреннее представление"
   ]
  },
  {
   "cell_type": "markdown",
   "metadata": {
    "deletable": true,
    "editable": true
   },
   "source": [
    "https://ru.wikipedia.org/wiki/Юникод"
   ]
  },
  {
   "cell_type": "markdown",
   "metadata": {
    "deletable": true,
    "editable": true
   },
   "source": [
    "#### Кодировки и Unicode"
   ]
  },
  {
   "cell_type": "markdown",
   "metadata": {
    "deletable": true,
    "editable": true
   },
   "source": [
    "* Кодировки могут быть постоянного и переменного размера.\n",
    "* Постоянного:\n",
    "  * latin1 (однобайтовая, не юникод)\n",
    "  * UCS-2 (двухбайтовая; аналог UTF-16 без суррогатных пар)\n",
    "  * UCS-4 (четырёхбайтовая, синоним UTF-32).\n",
    "* Переменного:\n",
    "  * UTF-8"
   ]
  },
  {
   "cell_type": "markdown",
   "metadata": {
    "deletable": true,
    "editable": true
   },
   "source": [
    "#### UTF-16 и UTF-32"
   ]
  },
  {
   "cell_type": "markdown",
   "metadata": {
    "deletable": true,
    "editable": true
   },
   "source": [
    "* 2 и 4 байтовые юникод кодировки.\n",
    "* Фиксированной длинны.\n",
    "* Важен порядок байт: BE (big-endian) или LE (little-endian).\n",
    "* В начале файлов часто бывает символ BOM - byte order mark - обозначающий BE или LE.\n",
    "* Из-за BOM могут возникать проблемы. Важно понимать, когда он есть и когда его убирать.\n",
    "* А лучше использовать UTF-8."
   ]
  },
  {
   "cell_type": "markdown",
   "metadata": {
    "deletable": true,
    "editable": true
   },
   "source": [
    "#### UTF-8"
   ]
  },
  {
   "cell_type": "markdown",
   "metadata": {
    "deletable": true,
    "editable": true
   },
   "source": [
    "##### Правила записи UTF-8"
   ]
  },
  {
   "cell_type": "markdown",
   "metadata": {
    "deletable": true,
    "editable": true
   },
   "source": [
    "* Если код меньше 128, то просто записываем байт.\n",
    "* Если код между 128 и 0x7ff, то записываем два байта со значениями между 128 и 255.\n",
    "* Для кодов больше 0x7ff используются трёх и четырёх байтовые последовательности, каждый байт со значениями между 128 и 255.\n",
    "* Теоретически, расширяется до 6 байт, но на практике (в текущем Unicode) хватает только 4 байт, т.к. нет символов с кодом больше 0x10FFFF)."
   ]
  },
  {
   "cell_type": "markdown",
   "metadata": {
    "deletable": true,
    "editable": true
   },
   "source": [
    "Unicode UTF-8:\n",
    "* 0x00000000 — 0x0000007F: 0xxxxxxx\n",
    "* 0x00000080 — 0x000007FF: 110xxxxx 10xxxxxx\n",
    "* 0x00000800 — 0x0000FFFF: 1110xxxx 10xxxxxx 10xxxxxx\n",
    "* 0x00010000 — 0x001FFFFF: 11110xxx 10xxxxxx 10xxxxxx 10xxxxxx"
   ]
  },
  {
   "cell_type": "markdown",
   "metadata": {
    "deletable": true,
    "editable": true
   },
   "source": [
    "Теоретически возможны, но не включены в стандарт также:\n",
    "\n",
    "* 0x00200000 — 0x03FFFFFF: 111110xx 10xxxxxx 10xxxxxx 10xxxxxx 10xxxxxx\n",
    "* 0x04000000 — 0x7FFFFFFF: 1111110x 10xxxxxx 10xxxxxx 10xxxxxx 10xxxxxx 10xxxxxx"
   ]
  },
  {
   "cell_type": "markdown",
   "metadata": {
    "deletable": true,
    "editable": true
   },
   "source": [
    "Замечания:\n",
    "* Несмотря на то, что UTF-8 позволяет указать один и тот же символ несколькими способами, только наиболее короткий из них правильный.\n",
    "* Остальные формы должны отвергаться по соображениям безопасности."
   ]
  },
  {
   "cell_type": "markdown",
   "metadata": {
    "deletable": true,
    "editable": true
   },
   "source": [
    "##### Удобные свойства UTF-8\n",
    "* Можно записать любой существующий символ Unicode.\n",
    "* В записях utf-8 символов нет промежуточных нулевых байт, поэтому такие строки совместимы с C-функциями вроде strcpy и т.д., а также могут передаваться по протоколам не поддерживающим промежуточные нулевые байты.\n",
    "* Строка ASCII - валидный UTF-8 текст.\n",
    "* UTF-8 достаточно компактен: большинство используемых символов помещаются в 1-2 байтовые последовательности.\n",
    "* В случае повреждения или потери данных можно определить начало следующего UTF-8 кода и продолжить с этого места (+ маловероятно, что случайные данные будут выглядеть как UTF-8)."
   ]
  },
  {
   "cell_type": "markdown",
   "metadata": {
    "deletable": true,
    "editable": true
   },
   "source": [
    "## Работа с кодировками в Python"
   ]
  },
  {
   "cell_type": "markdown",
   "metadata": {
    "deletable": true,
    "editable": true
   },
   "source": [
    "Работам с кодировками когда:\n",
    "* не английский язык\n",
    "* сторонние библиотеки\n",
    "* обработка произвольного текстового ввода-вывода"
   ]
  },
  {
   "cell_type": "markdown",
   "metadata": {
    "deletable": true,
    "editable": true
   },
   "source": [
    "### str и unicode"
   ]
  },
  {
   "cell_type": "markdown",
   "metadata": {
    "deletable": true,
    "editable": true
   },
   "source": [
    "* Общий предок: basestring\n",
    "* str - однобайтовые строки\n",
    "* unicode - юникод-строки (представление зависит от интерпретатора, 16 или 32 битные целые)."
   ]
  },
  {
   "cell_type": "markdown",
   "metadata": {
    "deletable": true,
    "editable": true
   },
   "source": [
    "#### unicode\n",
    "* unicode(string[, encoding, errors])\n",
    "* Все аргументы - 8-битные строки."
   ]
  },
  {
   "cell_type": "code",
   "execution_count": 2,
   "metadata": {
    "collapsed": false,
    "deletable": true,
    "editable": true
   },
   "outputs": [
    {
     "data": {
      "text/plain": [
       "u'abcdef'"
      ]
     },
     "execution_count": 2,
     "metadata": {},
     "output_type": "execute_result"
    }
   ],
   "source": [
    "unicode('abcdef')"
   ]
  },
  {
   "cell_type": "code",
   "execution_count": 3,
   "metadata": {
    "collapsed": true,
    "deletable": true,
    "editable": true
   },
   "outputs": [],
   "source": [
    "s = unicode('abcdef')"
   ]
  },
  {
   "cell_type": "code",
   "execution_count": 4,
   "metadata": {
    "collapsed": false,
    "deletable": true,
    "editable": true
   },
   "outputs": [
    {
     "data": {
      "text/plain": [
       "unicode"
      ]
     },
     "execution_count": 4,
     "metadata": {},
     "output_type": "execute_result"
    }
   ],
   "source": [
    "type(s)"
   ]
  },
  {
   "cell_type": "code",
   "execution_count": 5,
   "metadata": {
    "collapsed": false,
    "deletable": true,
    "editable": true,
    "scrolled": true
   },
   "outputs": [
    {
     "ename": "UnicodeDecodeError",
     "evalue": "'ascii' codec can't decode byte 0xff in position 6: ordinal not in range(128)",
     "output_type": "error",
     "traceback": [
      "\u001b[0;31m---------------------------------------------------------------------------\u001b[0m",
      "\u001b[0;31mUnicodeDecodeError\u001b[0m                        Traceback (most recent call last)",
      "\u001b[0;32m<ipython-input-5-5ad981c1688e>\u001b[0m in \u001b[0;36m<module>\u001b[0;34m()\u001b[0m\n\u001b[0;32m----> 1\u001b[0;31m \u001b[0municode\u001b[0m\u001b[0;34m(\u001b[0m\u001b[0;34m'abcdef'\u001b[0m \u001b[0;34m+\u001b[0m \u001b[0mchr\u001b[0m\u001b[0;34m(\u001b[0m\u001b[0;36m255\u001b[0m\u001b[0;34m)\u001b[0m\u001b[0;34m)\u001b[0m\u001b[0;34m\u001b[0m\u001b[0m\n\u001b[0m",
      "\u001b[0;31mUnicodeDecodeError\u001b[0m: 'ascii' codec can't decode byte 0xff in position 6: ordinal not in range(128)"
     ]
    }
   ],
   "source": [
    "unicode('abcdef' + chr(255))"
   ]
  },
  {
   "cell_type": "markdown",
   "metadata": {
    "deletable": true,
    "editable": true
   },
   "source": [
    "Аргумент errors определяет поведение при ошибке:\n",
    "* 'strict' - (выбран по-умолчанию) выбрасывать исключение UnicodeDecodeError.\n",
    "* 'replace' - замена проблемных символов на U+FFFD (‘REPLACEMENT CHARACTER’).\n",
    "* 'ignore' - пропустить проблемный символ, не учитывать его в результирующей юникод записи."
   ]
  },
  {
   "cell_type": "code",
   "execution_count": 6,
   "metadata": {
    "collapsed": false,
    "deletable": true,
    "editable": true
   },
   "outputs": [
    {
     "ename": "UnicodeDecodeError",
     "evalue": "'ascii' codec can't decode byte 0x80 in position 0: ordinal not in range(128)",
     "output_type": "error",
     "traceback": [
      "\u001b[0;31m---------------------------------------------------------------------------\u001b[0m",
      "\u001b[0;31mUnicodeDecodeError\u001b[0m                        Traceback (most recent call last)",
      "\u001b[0;32m<ipython-input-6-26229f7d56b8>\u001b[0m in \u001b[0;36m<module>\u001b[0;34m()\u001b[0m\n\u001b[0;32m----> 1\u001b[0;31m \u001b[0municode\u001b[0m\u001b[0;34m(\u001b[0m\u001b[0;34m'\\x80abc'\u001b[0m\u001b[0;34m,\u001b[0m \u001b[0merrors\u001b[0m\u001b[0;34m=\u001b[0m\u001b[0;34m'strict'\u001b[0m\u001b[0;34m)\u001b[0m\u001b[0;34m\u001b[0m\u001b[0m\n\u001b[0m",
      "\u001b[0;31mUnicodeDecodeError\u001b[0m: 'ascii' codec can't decode byte 0x80 in position 0: ordinal not in range(128)"
     ]
    }
   ],
   "source": [
    "unicode('\\x80abc', errors='strict')  "
   ]
  },
  {
   "cell_type": "code",
   "execution_count": 7,
   "metadata": {
    "collapsed": false,
    "deletable": true,
    "editable": true
   },
   "outputs": [
    {
     "data": {
      "text/plain": [
       "u'\\ufffdabc'"
      ]
     },
     "execution_count": 7,
     "metadata": {},
     "output_type": "execute_result"
    }
   ],
   "source": [
    "unicode('\\x80abc', errors='replace')"
   ]
  },
  {
   "cell_type": "code",
   "execution_count": 8,
   "metadata": {
    "collapsed": false,
    "deletable": true,
    "editable": true
   },
   "outputs": [
    {
     "data": {
      "text/plain": [
       "u'abc'"
      ]
     },
     "execution_count": 8,
     "metadata": {},
     "output_type": "execute_result"
    }
   ],
   "source": [
    "unicode('\\x80abc', errors='ignore')"
   ]
  },
  {
   "cell_type": "markdown",
   "metadata": {
    "deletable": true,
    "editable": true
   },
   "source": [
    "Можно создавать односимвольные строки:"
   ]
  },
  {
   "cell_type": "code",
   "execution_count": 9,
   "metadata": {
    "collapsed": false,
    "deletable": true,
    "editable": true
   },
   "outputs": [
    {
     "data": {
      "text/plain": [
       "u'\\ua000'"
      ]
     },
     "execution_count": 9,
     "metadata": {},
     "output_type": "execute_result"
    }
   ],
   "source": [
    "unichr(40960)"
   ]
  },
  {
   "cell_type": "markdown",
   "metadata": {
    "deletable": true,
    "editable": true
   },
   "source": [
    "И обратно:"
   ]
  },
  {
   "cell_type": "code",
   "execution_count": 10,
   "metadata": {
    "collapsed": false,
    "deletable": true,
    "editable": true,
    "scrolled": true
   },
   "outputs": [
    {
     "data": {
      "text/plain": [
       "40960"
      ]
     },
     "execution_count": 10,
     "metadata": {},
     "output_type": "execute_result"
    }
   ],
   "source": [
    "ord(u'\\ua000')"
   ]
  },
  {
   "cell_type": "markdown",
   "metadata": {
    "deletable": true,
    "editable": true
   },
   "source": [
    "### Кодирование и декодирование"
   ]
  },
  {
   "cell_type": "markdown",
   "metadata": {
    "deletable": true,
    "editable": true
   },
   "source": [
    "* Кодировка в Python задаётся своим названием (таблица встроенных кодировок https://docs.python.org/2/library/codecs.html#standard-encodings).\n",
    "* Методы encode (и decode) используют имя кодировки для явного указания целевой кодировки (кодировки источника)."
   ]
  },
  {
   "cell_type": "markdown",
   "metadata": {
    "deletable": true,
    "editable": true
   },
   "source": [
    "#### .encode([encoding], [errors='strict'])"
   ]
  },
  {
   "cell_type": "markdown",
   "metadata": {
    "deletable": true,
    "editable": true
   },
   "source": [
    "Конвертация unicode() строки в str() с указанной кодировкой encoding."
   ]
  },
  {
   "cell_type": "code",
   "execution_count": 11,
   "metadata": {
    "collapsed": false,
    "deletable": true,
    "editable": true
   },
   "outputs": [
    {
     "name": "stdout",
     "output_type": "stream",
     "text": [
      "ꀀabcd޴\n"
     ]
    }
   ],
   "source": [
    "u = unichr(40960) + u'abcd' + unichr(1972)\n",
    "print u"
   ]
  },
  {
   "cell_type": "code",
   "execution_count": 12,
   "metadata": {
    "collapsed": false,
    "deletable": true,
    "editable": true
   },
   "outputs": [
    {
     "data": {
      "text/plain": [
       "'\\xea\\x80\\x80abcd\\xde\\xb4'"
      ]
     },
     "execution_count": 12,
     "metadata": {},
     "output_type": "execute_result"
    }
   ],
   "source": [
    "u.encode('utf-8')"
   ]
  },
  {
   "cell_type": "code",
   "execution_count": 13,
   "metadata": {
    "collapsed": false,
    "deletable": true,
    "editable": true
   },
   "outputs": [
    {
     "name": "stdout",
     "output_type": "stream",
     "text": [
      "['0b11101010', '0b10000000', '0b10000000', '0b1100001', '0b1100010', '0b1100011', '0b1100100', '0b11011110', '0b10110100']\n"
     ]
    }
   ],
   "source": [
    "print [bin(ord(elem)) for elem in u.encode('utf-8')]"
   ]
  },
  {
   "cell_type": "code",
   "execution_count": 14,
   "metadata": {
    "collapsed": false,
    "deletable": true,
    "editable": true
   },
   "outputs": [
    {
     "ename": "UnicodeEncodeError",
     "evalue": "'ascii' codec can't encode character u'\\ua000' in position 0: ordinal not in range(128)",
     "output_type": "error",
     "traceback": [
      "\u001b[0;31m---------------------------------------------------------------------------\u001b[0m",
      "\u001b[0;31mUnicodeEncodeError\u001b[0m                        Traceback (most recent call last)",
      "\u001b[0;32m<ipython-input-14-29840d2e0bc9>\u001b[0m in \u001b[0;36m<module>\u001b[0;34m()\u001b[0m\n\u001b[0;32m----> 1\u001b[0;31m \u001b[0mu\u001b[0m\u001b[0;34m.\u001b[0m\u001b[0mencode\u001b[0m\u001b[0;34m(\u001b[0m\u001b[0;34m'ascii'\u001b[0m\u001b[0;34m)\u001b[0m\u001b[0;34m\u001b[0m\u001b[0m\n\u001b[0m",
      "\u001b[0;31mUnicodeEncodeError\u001b[0m: 'ascii' codec can't encode character u'\\ua000' in position 0: ordinal not in range(128)"
     ]
    }
   ],
   "source": [
    "u.encode('ascii')"
   ]
  },
  {
   "cell_type": "code",
   "execution_count": 15,
   "metadata": {
    "collapsed": false,
    "deletable": true,
    "editable": true
   },
   "outputs": [
    {
     "data": {
      "text/plain": [
       "'abcd'"
      ]
     },
     "execution_count": 15,
     "metadata": {},
     "output_type": "execute_result"
    }
   ],
   "source": [
    "u.encode('ascii', 'ignore')"
   ]
  },
  {
   "cell_type": "code",
   "execution_count": 16,
   "metadata": {
    "collapsed": false,
    "deletable": true,
    "editable": true
   },
   "outputs": [
    {
     "data": {
      "text/plain": [
       "'?abcd?'"
      ]
     },
     "execution_count": 16,
     "metadata": {},
     "output_type": "execute_result"
    }
   ],
   "source": [
    "u.encode('ascii', 'replace')"
   ]
  },
  {
   "cell_type": "code",
   "execution_count": 17,
   "metadata": {
    "collapsed": false,
    "deletable": true,
    "editable": true
   },
   "outputs": [
    {
     "data": {
      "text/plain": [
       "'&#40960;abcd&#1972;'"
      ]
     },
     "execution_count": 17,
     "metadata": {},
     "output_type": "execute_result"
    }
   ],
   "source": [
    "u.encode('ascii', 'xmlcharrefreplace')"
   ]
  },
  {
   "cell_type": "markdown",
   "metadata": {
    "deletable": true,
    "editable": true
   },
   "source": [
    "#### .decode([encoding], [errors])"
   ]
  },
  {
   "cell_type": "markdown",
   "metadata": {
    "deletable": true,
    "editable": true
   },
   "source": [
    "Конвертация str() строки в unicode() предполагая, что str() имеет кодировку encoding."
   ]
  },
  {
   "cell_type": "code",
   "execution_count": 18,
   "metadata": {
    "collapsed": true,
    "deletable": true,
    "editable": true
   },
   "outputs": [],
   "source": [
    "u = unichr(40960) + u'abcd' + unichr(1972)   # Assemble a string"
   ]
  },
  {
   "cell_type": "code",
   "execution_count": 19,
   "metadata": {
    "collapsed": true,
    "deletable": true,
    "editable": true
   },
   "outputs": [],
   "source": [
    "utf8_version = u.encode('utf-8')             # Encode as UTF-8"
   ]
  },
  {
   "cell_type": "code",
   "execution_count": 20,
   "metadata": {
    "collapsed": false,
    "deletable": true,
    "editable": true
   },
   "outputs": [
    {
     "data": {
      "text/plain": [
       "(str, '\\xea\\x80\\x80abcd\\xde\\xb4')"
      ]
     },
     "execution_count": 20,
     "metadata": {},
     "output_type": "execute_result"
    }
   ],
   "source": [
    "type(utf8_version), utf8_version"
   ]
  },
  {
   "cell_type": "code",
   "execution_count": 21,
   "metadata": {
    "collapsed": true,
    "deletable": true,
    "editable": true
   },
   "outputs": [],
   "source": [
    "u2 = utf8_version.decode('utf-8')            # Decode using UTF-8"
   ]
  },
  {
   "cell_type": "code",
   "execution_count": 22,
   "metadata": {
    "collapsed": false,
    "deletable": true,
    "editable": true
   },
   "outputs": [
    {
     "data": {
      "text/plain": [
       "True"
      ]
     },
     "execution_count": 22,
     "metadata": {},
     "output_type": "execute_result"
    }
   ],
   "source": [
    "u == u2                                # The two strings match"
   ]
  },
  {
   "cell_type": "markdown",
   "metadata": {
    "deletable": true,
    "editable": true
   },
   "source": [
    "#### Низкоуровневые преобразования и работа с кодировками"
   ]
  },
  {
   "cell_type": "markdown",
   "metadata": {
    "deletable": true,
    "editable": true
   },
   "source": [
    "* Можно найти в модуле codecs.\n",
    "* Обычно, это не нужно и базовых достаточно."
   ]
  },
  {
   "cell_type": "markdown",
   "metadata": {
    "deletable": true,
    "editable": true
   },
   "source": [
    "### unicode literals"
   ]
  },
  {
   "cell_type": "code",
   "execution_count": 23,
   "metadata": {
    "collapsed": false,
    "deletable": true,
    "editable": true
   },
   "outputs": [],
   "source": [
    "s = u\"a\\xac\\u1234\\u20ac\\U00008000\""
   ]
  },
  {
   "cell_type": "markdown",
   "metadata": {
    "deletable": true,
    "editable": true
   },
   "source": [
    "* \\x - два hex.\n",
    "* \\u - четыре hex.\n",
    "* \\U - восемь hex."
   ]
  },
  {
   "cell_type": "code",
   "execution_count": 24,
   "metadata": {
    "collapsed": false,
    "deletable": true,
    "editable": true
   },
   "outputs": [
    {
     "name": "stdout",
     "output_type": "stream",
     "text": [
      "97 172 4660 8364 32768\n"
     ]
    }
   ],
   "source": [
    "for character in s:\n",
    "    print ord(character),"
   ]
  },
  {
   "cell_type": "markdown",
   "metadata": {
    "deletable": true,
    "editable": true
   },
   "source": [
    "### -*- coding: utf-8 -*-"
   ]
  },
  {
   "cell_type": "markdown",
   "metadata": {
    "deletable": true,
    "editable": true
   },
   "source": [
    "* Кодировка в Python 2 по-умолчанию - ASCII (в версии до 2.4 использовалась latin-1).\n",
    "* Чтобы упростить запись спецсимволов в файле с исходным кодом, можно задать другую кодировку.\n",
    "* Принято использовать соглашение, взятое из emacs."
   ]
  },
  {
   "cell_type": "code",
   "execution_count": 25,
   "metadata": {
    "collapsed": true,
    "deletable": true,
    "editable": true
   },
   "outputs": [],
   "source": [
    "# -*- coding: utf-8 -*-"
   ]
  },
  {
   "cell_type": "markdown",
   "metadata": {
    "deletable": true,
    "editable": true
   },
   "source": [
    "Будет работать и с \"coding: name\" или \"coding=name\"."
   ]
  },
  {
   "cell_type": "markdown",
   "metadata": {
    "deletable": true,
    "editable": true
   },
   "source": [
    "### codecs"
   ]
  },
  {
   "cell_type": "markdown",
   "metadata": {
    "deletable": true,
    "editable": true
   },
   "source": [
    "* Иногда необходима низкоуровневая работа с байтами кодировок (например, если оборвана последовательность байт).\n",
    "* Для этого можно воспользоваться модулем codecs.\n",
    "* В частности, с помощью codecs.open можно явно указывать кодировку открываемого файла и правила обработки ошибок."
   ]
  },
  {
   "cell_type": "markdown",
   "metadata": {
    "deletable": true,
    "editable": true
   },
   "source": [
    "codecs.open(filename, mode='rb', encoding=None, errors='strict', buffering=1)"
   ]
  },
  {
   "cell_type": "code",
   "execution_count": 26,
   "metadata": {
    "collapsed": false,
    "deletable": true,
    "editable": true
   },
   "outputs": [
    {
     "name": "stdout",
     "output_type": "stream",
     "text": [
      "u'\\u4500'\n"
     ]
    }
   ],
   "source": [
    "import codecs\n",
    "with codecs.open('codecs_test', encoding='utf-8', mode='w+') as f:\n",
    "    f.write(u'\\u4500 blah blah blah\\n')\n",
    "    f.seek(0)\n",
    "    print repr(f.readline()[:1]) # U+FEFF byte order mark"
   ]
  },
  {
   "cell_type": "markdown",
   "metadata": {
    "deletable": true,
    "editable": true
   },
   "source": [
    "#### BOM"
   ]
  },
  {
   "cell_type": "code",
   "execution_count": 27,
   "metadata": {
    "collapsed": false,
    "deletable": true,
    "editable": true
   },
   "outputs": [
    {
     "name": "stdout",
     "output_type": "stream",
     "text": [
      "'\\xff\\xfe'\n",
      "'\\xfe\\xff'\n",
      "'\\xef\\xbb\\xbf'\n"
     ]
    }
   ],
   "source": [
    "import codecs\n",
    "print repr(codecs.BOM_UTF16_LE)\n",
    "print repr(codecs.BOM_UTF16_BE)\n",
    "print repr(codecs.BOM_UTF8) # has no big sense for UTF-8"
   ]
  },
  {
   "cell_type": "markdown",
   "metadata": {
    "deletable": true,
    "editable": true
   },
   "source": [
    "Про удаление BOM:\n",
    "* Декодирование из UTF-16 удаляет BOM автоматически.\n",
    "* Но не из UTF-8: надо явно использовать s.decode('utf-8-sig')"
   ]
  },
  {
   "cell_type": "markdown",
   "metadata": {
    "deletable": true,
    "editable": true
   },
   "source": [
    "### Свойства Unicode символов"
   ]
  },
  {
   "cell_type": "code",
   "execution_count": 28,
   "metadata": {
    "collapsed": false,
    "deletable": true,
    "editable": true
   },
   "outputs": [
    {
     "name": "stdout",
     "output_type": "stream",
     "text": [
      "0 00e9 Ll LATIN SMALL LETTER E WITH ACUTE\n",
      "1 0bf2 No TAMIL NUMBER ONE THOUSAND\n",
      "2 0f84 Mn TIBETAN MARK HALANTA\n",
      "3 1770 Lo TAGBANWA LETTER SA\n",
      "4 33af So SQUARE RAD OVER S SQUARED\n",
      "1000.0\n"
     ]
    }
   ],
   "source": [
    "import unicodedata\n",
    "\n",
    "u = unichr(233) + unichr(0x0bf2) + unichr(3972) + unichr(6000) + unichr(13231)\n",
    "\n",
    "for i, c in enumerate(u):\n",
    "    print i, '%04x' % ord(c), unicodedata.category(c),\n",
    "    print unicodedata.name(c)\n",
    "\n",
    "# Get numeric value of second character\n",
    "print unicodedata.numeric(u[1])"
   ]
  },
  {
   "cell_type": "markdown",
   "metadata": {
    "deletable": true,
    "editable": true
   },
   "source": [
    "* Категории: Letter, Number, Punctuation, Symbol\n",
    "* Подкатегории зависят от категорий:\n",
    "  * Ll (letter, lowercase)\n",
    "  * No (number, other)\n",
    "  * Mn (mark, nonspacing)\n",
    "  * So (symbol, other)"
   ]
  },
  {
   "cell_type": "markdown",
   "metadata": {
    "deletable": true,
    "editable": true
   },
   "source": [
    "### Общие проблемы при работе с кодировками в Python"
   ]
  },
  {
   "cell_type": "markdown",
   "metadata": {
    "deletable": true,
    "editable": true
   },
   "source": [
    "* ASCII является кодировкой по-умолчанию в Python 2.\n",
    "* Файлы могут содержать BOM (byte order mark).\n",
    "* Не все внутренние части Python 2 поддерживают юникод.\n",
    "* Невозможно точно угадать кодировку.\n",
    "* Чтение чанками многобайтовых кодировок."
   ]
  },
  {
   "cell_type": "markdown",
   "metadata": {
    "deletable": true,
    "editable": true
   },
   "source": [
    "### Общие советы по работе с кодировками"
   ]
  },
  {
   "cell_type": "markdown",
   "metadata": {
    "deletable": true,
    "editable": true
   },
   "source": [
    "#### Декодируем, обрабатываем, кодируем"
   ]
  },
  {
   "cell_type": "markdown",
   "metadata": {
    "deletable": true,
    "editable": true
   },
   "source": [
    "* Декодируем входные данные как можно раньше на входе\n",
    "* Используем внутри своей программы Unicode.\n",
    "* Кодируем только в самом конце перед передачей данных на выход программы."
   ]
  },
  {
   "cell_type": "markdown",
   "metadata": {
    "deletable": true,
    "editable": true
   },
   "source": [
    "#### Обертки для модулей"
   ]
  },
  {
   "cell_type": "markdown",
   "metadata": {
    "deletable": true,
    "editable": true
   },
   "source": [
    "Можно писать обертки для модулей неподдерживающих юникод."
   ]
  },
  {
   "cell_type": "markdown",
   "metadata": {
    "deletable": true,
    "editable": true
   },
   "source": [
    "#### Юникод и тесты"
   ]
  },
  {
   "cell_type": "markdown",
   "metadata": {
    "deletable": true,
    "editable": true
   },
   "source": [
    "Помещать проверки работы с юникодом в юнит тесты."
   ]
  },
  {
   "cell_type": "markdown",
   "metadata": {
    "deletable": true,
    "editable": true
   },
   "source": [
    "#### Угадывание и UTF-8 ftw"
   ]
  },
  {
   "cell_type": "markdown",
   "metadata": {
    "deletable": true,
    "editable": true
   },
   "source": [
    "* По-умолчанию лучше предполагать (и использовать самому) utf-8.\n",
    "* Дополнительно можно использовать byte order mark для угадывания кодировки.\n",
    "* chardet.detect() от http://chardet.feedparser.org/"
   ]
  },
  {
   "cell_type": "markdown",
   "metadata": {
    "deletable": true,
    "editable": true
   },
   "source": [
    "## utf-8 playground"
   ]
  },
  {
   "cell_type": "code",
   "execution_count": 29,
   "metadata": {
    "collapsed": false,
    "deletable": true,
    "editable": true
   },
   "outputs": [],
   "source": [
    "def print_utf8_repr(unistr):\n",
    "    utf8_line = unistr.encode('utf-8')\n",
    "    for character in utf8_line:\n",
    "        print bin(ord(character))[2:].zfill(8),"
   ]
  },
  {
   "cell_type": "code",
   "execution_count": 30,
   "metadata": {
    "collapsed": false,
    "deletable": true,
    "editable": true
   },
   "outputs": [
    {
     "name": "stdout",
     "output_type": "stream",
     "text": [
      "01111111\n"
     ]
    }
   ],
   "source": [
    "print_utf8_repr(unichr(127))"
   ]
  },
  {
   "cell_type": "code",
   "execution_count": 31,
   "metadata": {
    "collapsed": false,
    "deletable": true,
    "editable": true
   },
   "outputs": [
    {
     "name": "stdout",
     "output_type": "stream",
     "text": [
      "11000010 10000000\n"
     ]
    }
   ],
   "source": [
    "print_utf8_repr(unichr(128))"
   ]
  },
  {
   "cell_type": "code",
   "execution_count": 32,
   "metadata": {
    "collapsed": false,
    "deletable": true,
    "editable": true
   },
   "outputs": [
    {
     "name": "stdout",
     "output_type": "stream",
     "text": [
      "11100000 10111111 10111111\n"
     ]
    }
   ],
   "source": [
    "print_utf8_repr(unichr(4095))"
   ]
  },
  {
   "cell_type": "code",
   "execution_count": 33,
   "metadata": {
    "collapsed": false,
    "deletable": true,
    "editable": true
   },
   "outputs": [
    {
     "name": "stdout",
     "output_type": "stream",
     "text": [
      "11100000 10100000 10000000\n"
     ]
    }
   ],
   "source": [
    "print_utf8_repr(unichr(2048))"
   ]
  },
  {
   "cell_type": "code",
   "execution_count": 34,
   "metadata": {
    "collapsed": false,
    "deletable": true,
    "editable": true
   },
   "outputs": [
    {
     "name": "stdout",
     "output_type": "stream",
     "text": [
      "11011111 10111111\n"
     ]
    }
   ],
   "source": [
    "print_utf8_repr(unichr(2047))"
   ]
  },
  {
   "cell_type": "code",
   "execution_count": 35,
   "metadata": {
    "collapsed": false,
    "deletable": true,
    "editable": true
   },
   "outputs": [
    {
     "name": "stdout",
     "output_type": "stream",
     "text": [
      "11110000 10011111 10111111 10111111\n"
     ]
    }
   ],
   "source": [
    "print_utf8_repr(unichr(131071))"
   ]
  },
  {
   "cell_type": "code",
   "execution_count": 36,
   "metadata": {
    "collapsed": false,
    "deletable": true,
    "editable": true
   },
   "outputs": [
    {
     "name": "stdout",
     "output_type": "stream",
     "text": [
      "11101111 10111111 10111111\n"
     ]
    }
   ],
   "source": [
    "print_utf8_repr(unichr(65535))"
   ]
  },
  {
   "cell_type": "code",
   "execution_count": 37,
   "metadata": {
    "collapsed": false,
    "deletable": true,
    "editable": true
   },
   "outputs": [
    {
     "name": "stdout",
     "output_type": "stream",
     "text": [
      "11110000 10010000 10000000 10000000\n"
     ]
    }
   ],
   "source": [
    "print_utf8_repr(unichr(65536))"
   ]
  },
  {
   "cell_type": "markdown",
   "metadata": {},
   "source": [
    "0  \n",
    "  \n",
    "110 10  \n",
    "1110 10  \n",
    "11110 10  "
   ]
  },
  {
   "cell_type": "markdown",
   "metadata": {
    "deletable": true,
    "editable": true
   },
   "source": [
    "#### Самостоятельная задача"
   ]
  },
  {
   "cell_type": "markdown",
   "metadata": {
    "deletable": true,
    "editable": true
   },
   "source": [
    "Рекомендую попробовать написать функцию кодирования (декодирования) utf-8."
   ]
  },
  {
   "cell_type": "markdown",
   "metadata": {
    "deletable": true,
    "editable": true
   },
   "source": [
    "## Источники и детальнее"
   ]
  },
  {
   "cell_type": "markdown",
   "metadata": {
    "deletable": true,
    "editable": true
   },
   "source": [
    "* https://ru.wikipedia.org/wiki/Юникод\n",
    "* https://docs.python.org/2/howto/unicode.html\n",
    "* https://docs.python.org/2/library/codecs.html#standard-encodings\n",
    "* http://farmdev.com/talks/unicode/\n",
    "* https://pythonhosted.org/kitchen/unicode-frustrations.html"
   ]
  }
 ],
 "metadata": {
  "kernelspec": {
   "display_name": "Python 2",
   "language": "python",
   "name": "python2"
  },
  "language_info": {
   "codemirror_mode": {
    "name": "ipython",
    "version": 2
   },
   "file_extension": ".py",
   "mimetype": "text/x-python",
   "name": "python",
   "nbconvert_exporter": "python",
   "pygments_lexer": "ipython2",
   "version": "2.7.12"
  }
 },
 "nbformat": 4,
 "nbformat_minor": 0
}
